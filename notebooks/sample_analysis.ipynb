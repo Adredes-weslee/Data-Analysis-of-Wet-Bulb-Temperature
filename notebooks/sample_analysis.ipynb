{
 "cells": [
  {
   "cell_type": "markdown",
   "id": "ff838f59",
   "metadata": {},
   "source": [
    "# Wet Bulb Temperature Analysis\n",
    "        \n",
    "This notebook demonstrates the usage of the refactored Python modules for analyzing wet bulb temperature data in Singapore.\n",
    "\n",
    "The analysis covers:\n",
    "1. Data loading and preprocessing\n",
    "2. Exploratory data analysis\n",
    "3. Time series analysis\n",
    "4. Correlation analysis\n",
    "5. Regression modeling\n"
   ]
  },
  {
   "cell_type": "markdown",
   "id": "c918b98a",
   "metadata": {},
   "source": [
    "## Setup and Imports"
   ]
  },
  {
   "cell_type": "code",
   "execution_count": null,
   "id": "3ec329d0",
   "metadata": {},
   "outputs": [],
   "source": [
    "# Import necessary modules\n",
    "import os\n",
    "import sys\n",
    "from pathlib import Path\n",
    "\n",
    "# Add the project root to the Python path\n",
    "project_root = Path().absolute().parent\n",
    "sys.path.insert(0, str(project_root))\n",
    "\n",
    "# Import our modules\n",
    "from src.data_processing.data_loader import load_data, prepare_data_for_analysis\n",
    "from src.visualization.exploratory import plot_time_series, plot_correlation_matrix, plot_scatter_with_regression\n",
    "from src.models.regression import preprocess_for_regression, build_linear_regression_model, evaluate_regression_model\n",
    "from src.features.feature_engineering import create_temporal_features, create_interaction_features\n",
    "\n",
    "# Other imports\n",
    "import pandas as pd\n",
    "import numpy as np\n",
    "import matplotlib.pyplot as plt\n",
    "import seaborn as sns\n",
    "\n",
    "%matplotlib inline\n",
    "plt.style.use('seaborn-v0_8-whitegrid')\n",
    "plt.rcParams['figure.figsize'] = (12, 8)\n"
   ]
  },
  {
   "cell_type": "markdown",
   "id": "832f985d",
   "metadata": {},
   "source": [
    "## Data Loading and Preprocessing"
   ]
  },
  {
   "cell_type": "code",
   "execution_count": null,
   "id": "8cb24493",
   "metadata": {},
   "outputs": [],
   "source": [
    "# Define data path\n",
    "data_path = os.path.join(str(project_root), 'data')\n",
    "\n",
    "# Option 1: Load processed data if available\n",
    "processed_path = os.path.join(data_path, 'processed', 'final_dataset.csv')\n",
    "if os.path.exists(processed_path):\n",
    "    print(f\"Loading processed data from {processed_path}\")\n",
    "    df = pd.read_csv(processed_path, parse_dates=['month'], index_col='month')\n",
    "else:\n",
    "    # Option 2: Prepare data from raw files\n",
    "    print(\"Processing data from raw files\")\n",
    "    df = prepare_data_for_analysis(data_path)\n",
    "\n",
    "# Display basic information\n",
    "print(f\"Dataset shape: {df.shape}\")\n",
    "print(f\"Date range: {df.index.min().strftime('%b %Y')} to {df.index.max().strftime('%b %Y')}\")\n",
    "df.head()\n"
   ]
  },
  {
   "cell_type": "markdown",
   "id": "0667ea16",
   "metadata": {},
   "source": [
    "## Data Overview"
   ]
  },
  {
   "cell_type": "code",
   "execution_count": null,
   "id": "49eee6e3",
   "metadata": {},
   "outputs": [],
   "source": [
    "# Display column information\n",
    "df.info()\n",
    "\n",
    "# Display summary statistics\n",
    "df.describe()\n"
   ]
  },
  {
   "cell_type": "markdown",
   "id": "220e27e7",
   "metadata": {},
   "source": [
    "## Time Series Analysis"
   ]
  },
  {
   "cell_type": "code",
   "execution_count": null,
   "id": "23e02d85",
   "metadata": {},
   "outputs": [],
   "source": [
    "# Plot wet bulb temperature over time\n",
    "from src.visualization.exploratory import plot_time_series, plot_monthly_patterns\n",
    "\n",
    "# Plot time series with trend line\n",
    "fig = plot_time_series(df, 'avg_wet_bulb', 'Monthly Average Wet Bulb Temperature', 'Temperature (�C)', add_trend=True)\n",
    "plt.show()\n",
    "\n",
    "# Plot monthly patterns\n",
    "fig = plot_monthly_patterns(df, 'avg_wet_bulb')\n",
    "plt.show()\n",
    "\n",
    "# Analyze seasonality and trends\n",
    "from src.utils.statistics import calculate_trends\n",
    "\n",
    "trends = calculate_trends(df['avg_wet_bulb'])\n",
    "print(f\"Overall trend direction: {trends['trend_direction']}\")\n",
    "print(f\"Trend slope: {trends['trend_slope']:.6f}�C per month\")\n",
    "print(f\"Is trend statistically significant? {'Yes' if trends['is_significant'] else 'No'} (p-value: {trends['p_value']:.4f})\")\n"
   ]
  },
  {
   "cell_type": "markdown",
   "id": "c00bc6c4",
   "metadata": {},
   "source": [
    "## Correlation Analysis"
   ]
  },
  {
   "cell_type": "code",
   "execution_count": null,
   "id": "3af1e8f4",
   "metadata": {},
   "outputs": [],
   "source": [
    "# Select climate and greenhouse gas variables\n",
    "climate_vars = [col for col in df.columns if any(x in col.lower() for x in ['temperature', 'humidity', 'rainfall', 'sunshine'])]\n",
    "ghg_vars = [col for col in df.columns if any(x in col.lower() for x in ['co2', 'ch4', 'n2o', 'sf6'])]\n",
    "\n",
    "# Create correlation matrix\n",
    "selected_vars = ['avg_wet_bulb'] + climate_vars + ghg_vars\n",
    "correlation_df = df[selected_vars].dropna()\n",
    "\n",
    "# Plot correlation matrix\n",
    "fig = plot_correlation_matrix(correlation_df.corr(), title='Correlation Matrix')\n",
    "plt.show()\n",
    "\n",
    "# Scatter plot with regression line for specific variables\n",
    "fig = plot_scatter_with_regression(df, 'co2', 'avg_wet_bulb')\n",
    "plt.show()\n"
   ]
  },
  {
   "cell_type": "markdown",
   "id": "aa89fe3d",
   "metadata": {},
   "source": [
    "## Feature Engineering"
   ]
  },
  {
   "cell_type": "code",
   "execution_count": null,
   "id": "4eacb5c9",
   "metadata": {},
   "outputs": [],
   "source": [
    "# Create temporal features\n",
    "df_features = create_temporal_features(df.copy())\n",
    "print(\"Temporal features created:\", [col for col in df_features.columns if col not in df.columns])\n",
    "\n",
    "# Create interaction features\n",
    "interaction_columns = ['mean_temperature', 'mean_rainfall']\n",
    "if all(col in df.columns for col in interaction_columns):\n",
    "    df_features = create_interaction_features(df_features, columns=interaction_columns)\n",
    "    print(\"Interaction features created:\", [col for col in df_features.columns if col not in df.columns and 'interaction' in col])\n",
    "\n",
    "# Show the new features\n",
    "df_features[[col for col in df_features.columns if col not in df.columns]].head()\n"
   ]
  },
  {
   "cell_type": "markdown",
   "id": "ad082ec1",
   "metadata": {},
   "source": [
    "## Regression Modeling"
   ]
  },
  {
   "cell_type": "code",
   "execution_count": null,
   "id": "ad321321",
   "metadata": {},
   "outputs": [],
   "source": [
    "# Prepare data for regression modeling\n",
    "target_var = 'avg_wet_bulb'\n",
    "feature_vars = [col for col in df.select_dtypes(include=['number']).columns \n",
    "                if col != target_var and 'wet_bulb' not in col][:5]  # Using a few features for simplicity\n",
    "\n",
    "print(f\"Target variable: {target_var}\")\n",
    "print(f\"Feature variables: {feature_vars}\")\n",
    "\n",
    "# Preprocess data for regression\n",
    "X_train, X_test, y_train, y_test, scaler = preprocess_for_regression(\n",
    "    df, target_var, feature_vars, test_size=0.2, random_state=42\n",
    ")\n",
    "\n",
    "# Build and evaluate the model\n",
    "model = build_linear_regression_model(X_train, y_train)\n",
    "results = evaluate_regression_model(model, X_train, X_test, y_train, y_test, feature_vars)\n",
    "\n",
    "# Print model results\n",
    "print(\"\\nModel Results:\")\n",
    "print(f\"Training R�: {results['train_r2']:.4f}\")\n",
    "print(f\"Testing R�: {results['test_r2']:.4f}\")\n",
    "print(f\"RMSE: {results['test_rmse']:.4f}\")\n",
    "\n",
    "# Plot feature importance\n",
    "from src.models.regression import plot_feature_importance\n",
    "fig = plot_feature_importance(model, feature_vars)\n",
    "plt.show()\n",
    "\n",
    "# Plot actual vs predicted\n",
    "from src.models.regression import plot_actual_vs_predicted, plot_residuals\n",
    "y_pred = model.predict(X_test)\n",
    "\n",
    "fig = plot_actual_vs_predicted(y_test, y_pred)\n",
    "plt.show()\n",
    "\n",
    "fig = plot_residuals(y_test, y_pred)\n",
    "plt.show()\n"
   ]
  },
  {
   "cell_type": "markdown",
   "id": "0473acee",
   "metadata": {},
   "source": [
    "## Conclusion\n",
    "\n",
    "In this notebook, we've demonstrated how to use the refactored Python modules for wet bulb temperature analysis:\n",
    "\n",
    "1. **Data Processing**: We loaded and preprocessed the data using the `data_processing` module.\n",
    "2. **Visualization**: We created time series plots, correlation matrices, and scatter plots using the `visualization` module.\n",
    "3. **Feature Engineering**: We added temporal and interaction features using the `features` module.\n",
    "4. **Statistical Analysis**: We analyzed trends and patterns using the `utils` module.\n",
    "5. **Regression Modeling**: We built and evaluated a linear regression model using the `models` module.\n",
    "\n",
    "This demonstrates how our modular code structure makes it easy to perform complex analyses in a clean, organized manner.\n"
   ]
  }
 ],
 "metadata": {},
 "nbformat": 4,
 "nbformat_minor": 5
}
